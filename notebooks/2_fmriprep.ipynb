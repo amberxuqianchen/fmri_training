{
 "cells": [
  {
   "cell_type": "markdown",
   "id": "bdf4533a-dad8-40e3-b816-f5028beb21f6",
   "metadata": {},
   "source": [
    "# fMRIPrep Workshop\n",
    "\n",
    "## 1. Introduction to [fMRIPrep](https://fmriprep.org/en/stable/)\n",
    "\n",
    "![fmriprep](https://github.com/oesteban/fmriprep/raw/f4c7a9804be26c912b24ef4dccba54bdd72fa1fd/docs/_static/fmriprep-21.0.0.svg)\n",
    "\n",
    "fMRIPrep is a functional magnetic resonance imaging (fMRI) data preprocessing pipeline that is designed to provide an easily accessible, state-of-the-art interface for processing of diverse fMRI data. The benefits of using fMRIPrep include:\n",
    "\n",
    "- **BIDS compatibility**: fMRIPrep can directly process data organized in accordance with the Brain Imaging Data Structure (BIDS) format.\n",
    "- **Ease of use**: fMRIPrep is easy to install and provides a unified command line interface.\n",
    "- **Reproducibility**: Every step of the preprocessing pipeline is recorded, promoting reproducibility of the analysis.\n",
    "- **Transparent preprocessing**: Many visual reports are produced, allowing for easy quality control."
   ]
  },
  {
   "cell_type": "markdown",
   "id": "63219ab9-c9aa-4489-851c-c978cd1e4b98",
   "metadata": {},
   "source": [
    "## 2. How to Use fMRIPrep\n",
    "\n",
    "fMRIPrep is a Python package that can be installed and run on a Linux operating system. \n",
    "\n",
    "\n",
    "There are two ways to install fMRIPrep:\n",
    "- using container technologies (RECOMMENDED); or\n",
    "- within a Manually Prepared Environment (Python 3.8+)"
   ]
  },
  {
   "cell_type": "markdown",
   "id": "dd13e20c-a921-4d25-8299-4516ff618d3d",
   "metadata": {},
   "source": [
    "If used a container (e.g., Docker):\n",
    "```\n",
    "<container_command_and_options> <container_image> \\\n",
    "     <input_bids_path> <derivatives_path> <analysis_level> <fmriprep_named_options>\n",
    "```\n",
    "for example:\n",
    "```\n",
    "docker run -ti --rm \\\n",
    "  -v /path/to/data/dir:/data:ro \\\n",
    "  -v /path/to/output/dir:/out \\\n",
    "  poldracklab/fmriprep:latest \\\n",
    "  /data /out participant\n",
    "```\n",
    "\n",
    "If manually installed `fmriprep`, the command line would be:\n",
    "```\n",
    "fmriprep <input_bids_path> <derivatives_path> <analysis_level> <named_options>\n",
    "```"
   ]
  },
  {
   "cell_type": "markdown",
   "id": "dc3cb645-4689-404f-82ac-13ce9637c82a",
   "metadata": {},
   "source": [
    "## 3. Detailed Usage of fMRIPrep\n",
    "\n",
    "Let's say we have BIDS formatted data for one participant located at `/data/bids_dataset`. We want to preprocess this data and save the results in `/output/fmriprep_results`.\n",
    "\n",
    "```\n",
    "docker run -ti --rm \\\n",
    "  -v /data/bids_dataset:/data:ro \\\n",
    "  -v /output/fmriprep_results:/out \\\n",
    "  poldracklab/fmriprep:latest \\\n",
    "  /data /out participant\n",
    "```\n",
    "\n",
    "This command will start the fMRIPrep pipeline, which will preprocess the participant's data and generate many outputs, including:\n",
    "\n",
    "- Preprocessed fMRI data\n",
    "- Anatomical-to-standard and functional-to-standard transformation matrices\n",
    "- Brain masks\n",
    "- Reports for visual quality assurance"
   ]
  },
  {
   "cell_type": "markdown",
   "id": "c44f96bb-62a2-4690-a3af-df46aaff10d2",
   "metadata": {},
   "source": [
    "## 4. Understanding fMRIPrep Outputs\n",
    "\n",
    "fMRIPrep generates a wealth of outputs. Here are a few key ones:\n",
    "\n",
    "- Preprocessed fMRI data: These are the main outputs of fMRIPrep. They are the participant's fMRI data that have been preprocessed according to the fMRIPrep pipeline.\n",
    "- Transformation matrices: These are the transformation matrices that align the participant's anatomical and functional data to a standard space.\n",
    "- Brain masks: These are binary images that delineate the boundary of the brain.\n",
    "- Reports: These are HTML files that provide visualizations of the preprocessing steps, allowing for easy quality control."
   ]
  },
  {
   "cell_type": "code",
   "execution_count": null,
   "id": "c8226932-21ff-493b-8f69-42e1c8dbaad6",
   "metadata": {},
   "outputs": [],
   "source": []
  }
 ],
 "metadata": {
  "kernelspec": {
   "display_name": "Python 3 (ipykernel)",
   "language": "python",
   "name": "python3"
  },
  "language_info": {
   "codemirror_mode": {
    "name": "ipython",
    "version": 3
   },
   "file_extension": ".py",
   "mimetype": "text/x-python",
   "name": "python",
   "nbconvert_exporter": "python",
   "pygments_lexer": "ipython3",
   "version": "3.10.9"
  }
 },
 "nbformat": 4,
 "nbformat_minor": 5
}
